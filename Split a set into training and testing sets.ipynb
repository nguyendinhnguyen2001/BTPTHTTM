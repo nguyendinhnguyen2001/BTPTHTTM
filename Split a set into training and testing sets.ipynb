{
 "cells": [
  {
   "cell_type": "code",
   "execution_count": 19,
   "id": "26dd3284",
   "metadata": {},
   "outputs": [],
   "source": [
    "#khai báo thư viện\n",
    "import numpy as np\n",
    "import pandas as pd\n",
    "from sklearn.model_selection import train_test_split#hàm train_test_split để tách bộ dữ liệu,có trong thư viện sklearn"
   ]
  },
  {
   "cell_type": "markdown",
   "id": "8f96c5ef",
   "metadata": {},
   "source": [
    "Vi Du ve train_test_split"
   ]
  },
  {
   "cell_type": "code",
   "execution_count": 2,
   "id": "d9d94e56",
   "metadata": {},
   "outputs": [],
   "source": [
    "#khởi tạo  mảng dữ liệu X là 60000 số tự nhiên đầu,y là bình phương của X\n",
    "X_data=np.arange(60000)\n",
    "y_data=X_data**2"
   ]
  },
  {
   "cell_type": "code",
   "execution_count": 3,
   "id": "0543e144",
   "metadata": {},
   "outputs": [
    {
     "data": {
      "text/plain": [
       "array([    0,     1,     2, ..., 59997, 59998, 59999])"
      ]
     },
     "execution_count": 3,
     "metadata": {},
     "output_type": "execute_result"
    }
   ],
   "source": [
    "X_data#hiện X"
   ]
  },
  {
   "cell_type": "code",
   "execution_count": 4,
   "id": "065051c1",
   "metadata": {},
   "outputs": [
    {
     "data": {
      "text/plain": [
       "array([         0,          1,          4, ..., -695327287, -695207292,\n",
       "       -695087295], dtype=int32)"
      ]
     },
     "execution_count": 4,
     "metadata": {},
     "output_type": "execute_result"
    }
   ],
   "source": [
    "y_data#hiện y"
   ]
  },
  {
   "cell_type": "code",
   "execution_count": 5,
   "id": "43253749",
   "metadata": {},
   "outputs": [],
   "source": [
    "X_train, X_test,y_train, y_test = train_test_split(X_data,y_data)#tách dữ liệu với các tham số mặc định"
   ]
  },
  {
   "cell_type": "code",
   "execution_count": 6,
   "id": "47136b0b",
   "metadata": {},
   "outputs": [
    {
     "data": {
      "text/plain": [
       "((45000,), (45000,), (15000,), (15000,))"
      ]
     },
     "execution_count": 6,
     "metadata": {},
     "output_type": "execute_result"
    }
   ],
   "source": [
    "X_train.shape,y_train.shape,X_test.shape,y_test.shape#kết quả cho thấy bộ train 75%,test 25%"
   ]
  },
  {
   "cell_type": "code",
   "execution_count": 7,
   "id": "4f132774",
   "metadata": {},
   "outputs": [
    {
     "data": {
      "text/plain": [
       "(array([10369, 38608, 44472, ..., 13625, 46010, 43642]),\n",
       " array([23970, 28413, 51242, ..., 13778, 21512,   584]))"
      ]
     },
     "execution_count": 7,
     "metadata": {},
     "output_type": "execute_result"
    }
   ],
   "source": [
    "X_train,X_test"
   ]
  },
  {
   "cell_type": "code",
   "execution_count": 8,
   "id": "1704f5cb",
   "metadata": {},
   "outputs": [],
   "source": [
    "#tách dữ liệu với các tham số định dạng test 20%,trạng thái state random là 0 \n",
    "X_train, X_test,y_train, y_test = train_test_split(X_data,y_data,test_size=0.2,random_state=0)"
   ]
  },
  {
   "cell_type": "code",
   "execution_count": 9,
   "id": "58c9317e",
   "metadata": {},
   "outputs": [
    {
     "data": {
      "text/plain": [
       "(array([ 5778,  5287, 57167, ..., 42613, 43567,  2732]),\n",
       " array([ 3048, 19563, 58303, ..., 50430, 21574, 10617]))"
      ]
     },
     "execution_count": 9,
     "metadata": {},
     "output_type": "execute_result"
    }
   ],
   "source": [
    "X_train,X_test"
   ]
  },
  {
   "cell_type": "code",
   "execution_count": 10,
   "id": "fd1738fb",
   "metadata": {},
   "outputs": [],
   "source": [
    "#tách dữ liệu với các tham số định dạng test 20%,trạng thái state random là 0,trạng thái lấy không ngẫu nhiên\n",
    "X_train, X_test,y_train, y_test = train_test_split(X_data,y_data,test_size=0.2,random_state=0,shuffle=False)"
   ]
  },
  {
   "cell_type": "code",
   "execution_count": 11,
   "id": "aa9b2c79",
   "metadata": {},
   "outputs": [
    {
     "data": {
      "text/plain": [
       "((48000,), (48000,), (12000,), (12000,))"
      ]
     },
     "execution_count": 11,
     "metadata": {},
     "output_type": "execute_result"
    }
   ],
   "source": [
    "X_train.shape,y_train.shape,X_test.shape,y_test.shape"
   ]
  },
  {
   "cell_type": "code",
   "execution_count": 12,
   "id": "9f9b134f",
   "metadata": {},
   "outputs": [
    {
     "data": {
      "text/plain": [
       "(array([    0,     1,     2, ..., 47997, 47998, 47999]),\n",
       " array([48000, 48001, 48002, ..., 59997, 59998, 59999]))"
      ]
     },
     "execution_count": 12,
     "metadata": {},
     "output_type": "execute_result"
    }
   ],
   "source": [
    "X_train,X_test"
   ]
  },
  {
   "cell_type": "code",
   "execution_count": 13,
   "id": "cb0f823b",
   "metadata": {},
   "outputs": [],
   "source": [
    "#khởi tạo bộ dữ liệu x,y\n",
    "x = np.arange(1, 25).reshape(12, 2)\n",
    "y = np.array([0, 1, 1, 0, 1, 0, 0, 1, 1, 0, 1, 0])"
   ]
  },
  {
   "cell_type": "code",
   "execution_count": 14,
   "id": "0f5f90f9",
   "metadata": {},
   "outputs": [],
   "source": [
    "#tách dữ liệu với test 33% trạng thái state random là 0,stratify=y\n",
    "x_train,x_test,y_train,y_test=train_test_split(x,y,test_size=0.33,random_state=0,stratify=y)"
   ]
  },
  {
   "cell_type": "code",
   "execution_count": 15,
   "id": "1f3925e0",
   "metadata": {},
   "outputs": [
    {
     "data": {
      "text/plain": [
       "((8, 2), (4, 2), (8,), (4,))"
      ]
     },
     "execution_count": 15,
     "metadata": {},
     "output_type": "execute_result"
    }
   ],
   "source": [
    "x_train.shape,x_test.shape,y_train.shape,y_test.shape"
   ]
  },
  {
   "cell_type": "code",
   "execution_count": 16,
   "id": "4b6cc68e",
   "metadata": {},
   "outputs": [
    {
     "data": {
      "text/plain": [
       "(array([1, 1, 0, 1, 0, 0, 1, 0]), array([0, 1, 1, 0]))"
      ]
     },
     "execution_count": 16,
     "metadata": {},
     "output_type": "execute_result"
    }
   ],
   "source": [
    "y_train,y_test"
   ]
  },
  {
   "cell_type": "markdown",
   "id": "f9bed487",
   "metadata": {},
   "source": [
    "VI DU VE HOI QUY"
   ]
  },
  {
   "cell_type": "code",
   "execution_count": 17,
   "id": "16882524",
   "metadata": {},
   "outputs": [],
   "source": [
    "from sklearn.datasets import load_boston#bộ dữ liệu boston\n",
    "from sklearn.model_selection import train_test_split#hàm tách dữ liệu"
   ]
  },
  {
   "cell_type": "code",
   "execution_count": 20,
   "id": "22e56020",
   "metadata": {},
   "outputs": [],
   "source": [
    "x,y=load_boston(return_X_y=True)#tải dữ liệu"
   ]
  },
  {
   "cell_type": "code",
   "execution_count": 30,
   "id": "1233b7d4",
   "metadata": {},
   "outputs": [],
   "source": [
    "x_train, x_test, y_train, y_test = train_test_split( x, y, test_size=0.2, random_state=0)#tách bộ dữ liệu train 80%,test 20%"
   ]
  },
  {
   "cell_type": "code",
   "execution_count": 31,
   "id": "1c24e8f9",
   "metadata": {},
   "outputs": [],
   "source": [
    "from sklearn.linear_model import LinearRegression#mô hình hồi quy tuyến tính\n",
    "model=LinearRegression().fit(x_train,y_train)#huấn luyện mô hình"
   ]
  },
  {
   "cell_type": "code",
   "execution_count": 32,
   "id": "7c6e6be5",
   "metadata": {},
   "outputs": [
    {
     "data": {
      "text/plain": [
       "0.7730135569264234"
      ]
     },
     "execution_count": 32,
     "metadata": {},
     "output_type": "execute_result"
    }
   ],
   "source": [
    "model.score(x_train,y_train)#xác suất dự đoán trên bộ train"
   ]
  },
  {
   "cell_type": "code",
   "execution_count": 33,
   "id": "1fccd8eb",
   "metadata": {},
   "outputs": [
    {
     "data": {
      "text/plain": [
       "0.5892223849182507"
      ]
     },
     "execution_count": 33,
     "metadata": {},
     "output_type": "execute_result"
    }
   ],
   "source": [
    "model.score(x_test,y_test)#xác suất dự đoán trên bộ test"
   ]
  },
  {
   "cell_type": "code",
   "execution_count": 34,
   "id": "c9abdaef",
   "metadata": {},
   "outputs": [
    {
     "data": {
      "text/plain": [
       "((404, 13), (102, 13))"
      ]
     },
     "execution_count": 34,
     "metadata": {},
     "output_type": "execute_result"
    }
   ],
   "source": [
    "x_train.shape,x_test.shape#kích thước bộ train vs test"
   ]
  },
  {
   "cell_type": "markdown",
   "id": "6514b897",
   "metadata": {},
   "source": [
    "VI DU VE PHAN LOAI"
   ]
  },
  {
   "cell_type": "code",
   "execution_count": 35,
   "id": "61596e4f",
   "metadata": {},
   "outputs": [
    {
     "name": "stdout",
     "output_type": "stream",
     "text": [
      "(208, 60) (208,)\n",
      "(139, 60) (69, 60) (139,) (69,)\n",
      "Accuracy: 0.783\n"
     ]
    }
   ],
   "source": [
    "#khai báo thư viện\n",
    "from pandas import read_csv\n",
    "from sklearn.model_selection import train_test_split#tách dữ liệu\n",
    "from sklearn.ensemble import RandomForestClassifier#mô hình phân loại rừng ngẫu nhiên\n",
    "from sklearn.metrics import accuracy_score#tính toán hiệu suất mô hình\n",
    "url = 'https://raw.githubusercontent.com/jbrownlee/Datasets/master/sonar.csv'#link bộ dữ liệu\n",
    "dataframe = read_csv(url, header=None)#khởi tạo dataFrame bộ dữ liệu sonar.csv\n",
    "data = dataframe.values\n",
    "# split into inputs and outputs\n",
    "X, y = data[:, :-1], data[:, -1]#khởi tạo tính năng,nhãn từ dataframe\n",
    "print(X.shape, y.shape)\n",
    "X_train, X_test, y_train, y_test = train_test_split(X, y, test_size=0.33, random_state=1)#tách dữ liệu với bộ train 67%\n",
    "print(X_train.shape, X_test.shape, y_train.shape, y_test.shape)\n",
    "model = RandomForestClassifier(random_state=1)#khởi tạo mô hình\n",
    "model.fit(X_train, y_train)#huấn luyện mô hình\n",
    "yhat = model.predict(X_test)#khởi tạo mảng chứa kết quả dự đoán\n",
    "acc = accuracy_score(y_test, yhat)#thông số accuracy của mô hình(sự chính xác mô hình)\n",
    "print('Accuracy: %.3f' % acc)#in thông số."
   ]
  },
  {
   "cell_type": "code",
   "execution_count": null,
   "id": "5b1f7a89",
   "metadata": {},
   "outputs": [],
   "source": []
  }
 ],
 "metadata": {
  "kernelspec": {
   "display_name": "Python 3 (ipykernel)",
   "language": "python",
   "name": "python3"
  },
  "language_info": {
   "codemirror_mode": {
    "name": "ipython",
    "version": 3
   },
   "file_extension": ".py",
   "mimetype": "text/x-python",
   "name": "python",
   "nbconvert_exporter": "python",
   "pygments_lexer": "ipython3",
   "version": "3.9.7"
  }
 },
 "nbformat": 4,
 "nbformat_minor": 5
}
