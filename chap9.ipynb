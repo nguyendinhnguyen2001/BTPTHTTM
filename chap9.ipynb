{
 "cells": [
  {
   "cell_type": "code",
   "execution_count": 1,
   "id": "12db4c73",
   "metadata": {},
   "outputs": [],
   "source": [
    "import pandas as pd\n",
    "import numpy as np\n",
    "import operator\n",
    "import seaborn as sns\n",
    "import matplotlib.pyplot as plt"
   ]
  },
  {
   "cell_type": "code",
   "execution_count": 2,
   "id": "43e7eebe",
   "metadata": {},
   "outputs": [
    {
     "name": "stderr",
     "output_type": "stream",
     "text": [
      "C:\\Users\\Hi\\anaconda3\\lib\\site-packages\\seaborn\\_decorators.py:36: FutureWarning: Pass the following variables as keyword args: x, y. From version 0.12, the only valid positional argument will be `data`, and passing other arguments without an explicit keyword will result in an error or misinterpretation.\n",
      "  warnings.warn(\n"
     ]
    },
    {
     "data": {
      "image/png": "[encoded data removed]",
      "text/plain": [
       "<Figure size 402.875x360 with 1 Axes>"
      ]
     },
     "metadata": {
      "needs_background": "light"
     },
     "output_type": "display_data"
    }
   ],
   "source": [
    "data = pd.read_csv(\"knn.csv\")\n",
    "sns.lmplot('x', 'y', data=data,\n",
    " hue='c', palette='Set1',\n",
    " fit_reg=False, scatter_kws={\"s\": 70})\n",
    "plt.show()"
   ]
  },
  {
   "cell_type": "code",
   "execution_count": 3,
   "id": "b9a4eceb",
   "metadata": {},
   "outputs": [],
   "source": [
    "#---to calculate the distance between two points---\n",
    "def euclidean_distance(pt1, pt2, dimension):\n",
    "    distance = 0\n",
    "    for x in range(dimension):\n",
    "        distance += np.square(pt1[x] - pt2[x])\n",
    "    return np.sqrt(distance)"
   ]
  },
  {
   "cell_type": "markdown",
   "id": "19e190f0",
   "metadata": {},
   "source": [
    "Implementing KNN"
   ]
  },
  {
   "cell_type": "code",
   "execution_count": 4,
   "id": "4e533437",
   "metadata": {},
   "outputs": [],
   "source": [
    "#---our own KNN model---\n",
    "def knn(training_points, test_point, k):\n",
    "    distances = {}\n",
    "     #---the number of axes we are dealing with---\n",
    "    dimension = test_point.shape[1]\n",
    "     #--calculating euclidean distance between each\n",
    "     # point in the training data and test data\n",
    "    for x in range(len(training_points)):\n",
    "        dist = euclidean_distance(test_point, training_points.iloc[x], dimension)\n",
    "         #---record the distance for each training points---\n",
    "        distances[x] = dist[0]\n",
    "     #---sort the distances---\n",
    "    sorted_d = sorted(distances.items(), key=operator.itemgetter(1))\n",
    " #---to store the neighbors---\n",
    "    neighbors = []\n",
    " #---extract the top k neighbors---\n",
    "    for x in range(k):\n",
    "        neighbors.append(sorted_d[x][0])\n",
    " #---for each neighbor found, find out its class---\n",
    "    class_counter = {}\n",
    "    for x in range(len(neighbors)):\n",
    " #---find out the class for that particular point---\n",
    "        cls = training_points.iloc[neighbors[x]][-1]\n",
    "        if cls in class_counter:\n",
    "            class_counter[cls] += 1\n",
    "        else:\n",
    "            class_counter[cls] = 1\n",
    "         #---sort the class_counter in descending order---\n",
    "        sorted_counter = sorted(class_counter.items(), \n",
    "        key=operator.itemgetter(1),reverse=True)\n",
    "         #---return the class with the most count, as well as the \n",
    "         #neighbors found---\n",
    "        return(sorted_counter[0][0], neighbors)"
   ]
  },
  {
   "cell_type": "code",
   "execution_count": 5,
   "id": "6c4f777c",
   "metadata": {},
   "outputs": [
    {
     "name": "stdout",
     "output_type": "stream",
     "text": [
      "Predicted Class: A\n"
     ]
    }
   ],
   "source": [
    "#---test point---\n",
    "test_set = [[3,3.9]]\n",
    "test = pd.DataFrame(test_set)\n",
    "cls,neighbors = knn(data, test, 5)\n",
    "print(\"Predicted Class: \" + cls)"
   ]
  },
  {
   "cell_type": "code",
   "execution_count": 12,
   "id": "b3ce8661",
   "metadata": {},
   "outputs": [
    {
     "name": "stdout",
     "output_type": "stream",
     "text": [
      "============\n",
      "k =  7\n",
      "Class A\n",
      "Neighbors\n",
      "   x  y  c\n",
      "3  3  3  A\n",
      "4  3  5  B\n",
      "2  4  3  B\n",
      "6  5  4  B\n",
      "1  2  2  A\n",
      "5  5  6  B\n",
      "0  1  1  A\n",
      "============\n",
      "k =  5\n",
      "Class A\n",
      "Neighbors\n",
      "   x  y  c\n",
      "3  3  3  A\n",
      "4  3  5  B\n",
      "2  4  3  B\n",
      "6  5  4  B\n",
      "1  2  2  A\n",
      "============\n",
      "k =  3\n",
      "Class A\n",
      "Neighbors\n",
      "   x  y  c\n",
      "3  3  3  A\n",
      "4  3  5  B\n",
      "2  4  3  B\n",
      "============\n",
      "k =  1\n",
      "Class A\n",
      "Neighbors\n",
      "   x  y  c\n",
      "3  3  3  A\n"
     ]
    },
    {
     "data": {
      "image/png": "[encoded data removed]",
      "text/plain": [
       "<Figure size 432x288 with 1 Axes>"
      ]
     },
     "metadata": {
      "needs_background": "light"
     },
     "output_type": "display_data"
    }
   ],
   "source": [
    "#---generate the color map for the scatter plot---\n",
    "#---if column 'c' is A, then use Red, else use Blue---\n",
    "colors = ['r' if i == 'A' else 'b' for i in data['c']]\n",
    "ax = data.plot(kind='scatter', x='x', y='y', c = colors)\n",
    "plt.xlim(0,7)\n",
    "plt.ylim(0,7)\n",
    "#---plot the test point---\n",
    "plt.plot(test_set[0][0],test_set[0][1], \"yo\", markersize='9')\n",
    "for k in range(7,0,-2):\n",
    "    cls,neighbors = knn(data, test, k)\n",
    "    print(\"============\")\n",
    "    print(\"k = \", k)\n",
    "    print(\"Class\", cls)\n",
    "    print(\"Neighbors\")\n",
    "    print(data.iloc[neighbors])\n",
    "    furthest_point = data.iloc[neighbors].tail(1)\n",
    "     #---draw a circle connecting the test point \n",
    "     #and the furthest point---\n",
    "    radius = euclidean_distance(test, furthest_point.iloc[0], 2)\n",
    "     #---display the circle in red if classification is A,\n",
    "     # else display circle in blue---\n",
    "    c = 'r' if cls=='A' else 'b'\n",
    "    circle = plt.Circle((test_set[0][0], test_set[0][1]),\n",
    "    radius, color=c, alpha=0.3)\n",
    "    ax.add_patch(circle)\n",
    "plt.gca().set_aspect('equal', adjustable='box')\n",
    "plt.show()"
   ]
  },
  {
   "cell_type": "markdown",
   "id": "cb83e6fd",
   "metadata": {},
   "source": [
    "Using Scikit-Learn’s KNeighborsClassifier Class for KNN"
   ]
  },
  {
   "cell_type": "code",
   "execution_count": 13,
   "id": "3dff5a6f",
   "metadata": {},
   "outputs": [
    {
     "data": {
      "image/png": "[encoded data removed]",
      "text/plain": [
       "<Figure size 432x288 with 1 Axes>"
      ]
     },
     "metadata": {
      "needs_background": "light"
     },
     "output_type": "display_data"
    }
   ],
   "source": [
    "%matplotlib inline\n",
    "import pandas as pd\n",
    "import numpy as np\n",
    "import matplotlib.patches as mpatches\n",
    "from sklearn import svm, datasets\n",
    "import matplotlib.pyplot as plt\n",
    "iris = datasets.load_iris()\n",
    "X = iris.data[:, :2] # take the first two features\n",
    "y = iris.target\n",
    "#---plot the points---\n",
    "colors = ['red', 'green', 'blue']\n",
    "for color, i, target in zip(colors, [0, 1, 2], iris.target_names):\n",
    "    plt.scatter(X[y==i, 0], X[y==i, 1], color=color, label=target)\n",
    "plt.xlabel('Sepal length')\n",
    "plt.ylabel('Sepal width')\n",
    "plt.legend(loc='best', shadow=False, scatterpoints=1)\n",
    "plt.title('Scatter plot of Sepal width against Sepal length')\n",
    "plt.show()"
   ]
  },
  {
   "cell_type": "markdown",
   "id": "c4d3f37a",
   "metadata": {},
   "source": [
    "Exploring Different Values of K"
   ]
  },
  {
   "cell_type": "code",
   "execution_count": 14,
   "id": "c348b724",
   "metadata": {},
   "outputs": [
    {
     "name": "stdout",
     "output_type": "stream",
     "text": [
      "(array([0, 1, 2]), array([50, 60, 40], dtype=int64))\n"
     ]
    },
    {
     "data": {
      "image/png": "[encoded data removed]",
      "text/plain": [
       "<Figure size 432x288 with 1 Axes>"
      ]
     },
     "metadata": {
      "needs_background": "light"
     },
     "output_type": "display_data"
    }
   ],
   "source": [
    "from sklearn.neighbors import KNeighborsClassifier\n",
    "k = 1\n",
    "#---instantiate learning model---\n",
    "knn = KNeighborsClassifier(n_neighbors=k)\n",
    "#---fitting the model---\n",
    "knn.fit(X, y)\n",
    "#---min and max for the first feature---\n",
    "x_min, x_max = X[:, 0].min() - 1, X[:, 0].max() + 1\n",
    "#---min and max for the second feature---\n",
    "y_min, y_max = X[:, 1].min() - 1, X[:, 1].max() + 1\n",
    "#---step size in the mesh---\n",
    "h = (x_max / x_min)/100\n",
    "#---make predictions for each of the points in xx,yy---\n",
    "xx, yy = np.meshgrid(np.arange(x_min, x_max, h),\n",
    " np.arange(y_min, y_max, h))\n",
    "Z = knn.predict(np.c_[xx.ravel(), yy.ravel()])\n",
    "#---draw the result using a color plot---\n",
    "Z = Z.reshape(xx.shape)\n",
    "plt.contourf(xx, yy, Z, cmap=plt.cm.Accent, alpha=0.8)\n",
    "#---plot the training points---\n",
    "colors = ['red', 'green', 'blue']\n",
    "for color, i, target in zip(colors, [0, 1, 2], iris.target_names):\n",
    "    plt.scatter(X[y==i, 0], X[y==i, 1], color=color, label=target)\n",
    "plt.xlabel('Sepal length')\n",
    "plt.ylabel('Sepal width')\n",
    "plt.title(f'KNN (k={k})')\n",
    "plt.legend(loc='best', shadow=False, scatterpoints=1)\n",
    "predictions = knn.predict(X)\n",
    "#--classifications based on predictions---\n",
    "print(np.unique(predictions, return_counts=True))\n"
   ]
  },
  {
   "cell_type": "markdown",
   "id": "42a95401",
   "metadata": {},
   "source": [
    "Cross-Validation"
   ]
  },
  {
   "cell_type": "code",
   "execution_count": 15,
   "id": "1ed97a11",
   "metadata": {},
   "outputs": [
    {
     "name": "stdout",
     "output_type": "stream",
     "text": [
      "1 0.96\n",
      "2 0.9533333333333334\n",
      "4 0.9666666666666666\n",
      "5 0.9666666666666668\n",
      "7 0.9666666666666668\n",
      "8 0.9666666666666668\n",
      "10 0.9666666666666668\n",
      "11 0.9666666666666668\n",
      "13 0.9800000000000001\n",
      "14 0.9733333333333334\n",
      "16 0.9733333333333334\n",
      "17 0.9733333333333334\n",
      "19 0.9733333333333334\n",
      "20 0.9800000000000001\n",
      "22 0.9666666666666666\n",
      "23 0.9733333333333334\n",
      "25 0.9666666666666666\n",
      "26 0.96\n",
      "28 0.9533333333333334\n",
      "29 0.9533333333333334\n",
      "31 0.9466666666666667\n",
      "32 0.9466666666666667\n",
      "34 0.9466666666666667\n",
      "35 0.9466666666666667\n",
      "37 0.9466666666666667\n",
      "38 0.9466666666666667\n",
      "40 0.9533333333333334\n",
      "41 0.9533333333333334\n",
      "43 0.9466666666666667\n",
      "44 0.9400000000000001\n",
      "46 0.9333333333333333\n",
      "47 0.9333333333333333\n",
      "49 0.9400000000000001\n",
      "50 0.9266666666666667\n",
      "52 0.9333333333333333\n",
      "53 0.9333333333333333\n",
      "55 0.9333333333333333\n",
      "56 0.9066666666666666\n",
      "58 0.9133333333333334\n",
      "59 0.9200000000000002\n",
      "61 0.9199999999999999\n",
      "62 0.9066666666666666\n",
      "64 0.9\n",
      "65 0.9\n",
      "67 0.8866666666666667\n",
      "68 0.8800000000000001\n",
      "70 0.8866666666666667\n",
      "71 0.8866666666666667\n",
      "73 0.8933333333333333\n",
      "74 0.8866666666666667\n",
      "76 0.8800000000000001\n",
      "77 0.8866666666666667\n",
      "79 0.8866666666666667\n",
      "80 0.8933333333333333\n",
      "82 0.9000000000000001\n",
      "83 0.8800000000000001\n",
      "85 0.8733333333333334\n",
      "86 0.8800000000000001\n",
      "88 0.8733333333333334\n",
      "89 0.8800000000000001\n",
      "91 0.6599999999999999\n",
      "92 0.6599999999999999\n",
      "94 0.6599999999999999\n",
      "95 0.6599999999999999\n",
      "97 0.6599999999999999\n",
      "98 0.6599999999999999\n",
      "100 0.6599999999999999\n",
      "101 0.6599999999999999\n",
      "103 0.6599999999999999\n",
      "104 0.6599999999999999\n",
      "106 0.6599999999999999\n",
      "107 0.6599999999999999\n",
      "109 0.6599999999999999\n",
      "110 0.6533333333333332\n",
      "112 0.6466666666666665\n",
      "113 0.6466666666666665\n",
      "115 0.6466666666666665\n",
      "116 0.6466666666666665\n",
      "118 0.6399999999999999\n",
      "119 0.6399999999999999\n",
      "121 0.6399999999999999\n",
      "122 0.6399999999999999\n",
      "124 0.6399999999999999\n",
      "125 0.6333333333333332\n",
      "127 0.6266666666666666\n",
      "128 0.6199999999999999\n",
      "130 0.6066666666666667\n",
      "131 0.5933333333333332\n",
      "133 0.5666666666666667\n",
      "134 0.5533333333333333\n"
     ]
    }
   ],
   "source": [
    "from sklearn.model_selection import cross_val_score\n",
    "#---holds the cv (cross-validates) scores---\n",
    "cv_scores = []\n",
    "#---use all features---\n",
    "X = iris.data[:, :4]\n",
    "y = iris.target\n",
    "#---number of folds---\n",
    "folds = 10\n",
    "#---creating odd list of K for KNN---\n",
    "ks = list(range(1,int(len(X) * ((folds - 1)/folds))))\n",
    "#---remove all multiples of 3---\n",
    "ks = [k for k in ks if k % 3 != 0]\n",
    "#---perform k-fold cross validation---\n",
    "for k in ks:\n",
    "    knn = KNeighborsClassifier(n_neighbors=k)\n",
    "    #---performs cross-validation and returns the average accuracy---\n",
    "    scores = cross_val_score(knn, X, y, cv=folds, scoring='accuracy')\n",
    "    mean = scores.mean()\n",
    "    cv_scores.append(mean)\n",
    "    print(k, mean)"
   ]
  },
  {
   "cell_type": "markdown",
   "id": "caa8441d",
   "metadata": {},
   "source": [
    "Finding the Optimal K"
   ]
  },
  {
   "cell_type": "code",
   "execution_count": 16,
   "id": "e714b9fb",
   "metadata": {},
   "outputs": [
    {
     "name": "stdout",
     "output_type": "stream",
     "text": [
      "The optimal number of neighbors is 13\n"
     ]
    },
    {
     "data": {
      "image/png": "[encoded data removed]",
      "text/plain": [
       "<Figure size 432x288 with 1 Axes>"
      ]
     },
     "metadata": {
      "needs_background": "light"
     },
     "output_type": "display_data"
    }
   ],
   "source": [
    "#---calculate misclassification error for each k---\n",
    "MSE = [1 - x for x in cv_scores]\n",
    "#---determining best k (min. MSE)---\n",
    "optimal_k = ks[MSE.index(min(MSE))]\n",
    "print(f\"The optimal number of neighbors is {optimal_k}\")\n",
    "#---plot misclassification error vs k---\n",
    "plt.plot(ks, MSE)\n",
    "plt.xlabel('Number of Neighbors K')\n",
    "plt.ylabel('Misclassification Error')\n",
    "plt.show()\n"
   ]
  },
  {
   "cell_type": "code",
   "execution_count": 25,
   "id": "343ea741",
   "metadata": {},
   "outputs": [],
   "source": [
    "knn_score=max(cv_scores)"
   ]
  },
  {
   "cell_type": "code",
   "execution_count": 28,
   "id": "01a29cbe",
   "metadata": {},
   "outputs": [],
   "source": [
    "k_optimal=cv_scores.index(knn_score)"
   ]
  },
  {
   "cell_type": "code",
   "execution_count": 29,
   "id": "e9758bc5",
   "metadata": {},
   "outputs": [
    {
     "data": {
      "text/plain": [
       "8"
      ]
     },
     "execution_count": 29,
     "metadata": {},
     "output_type": "execute_result"
    }
   ],
   "source": [
    "k_optimal"
   ]
  },
  {
   "cell_type": "code",
   "execution_count": null,
   "id": "76ceac77",
   "metadata": {},
   "outputs": [],
   "source": []
  }
 ],
 "metadata": {
  "kernelspec": {
   "display_name": "Python 3 (ipykernel)",
   "language": "python",
   "name": "python3"
  },
  "language_info": {
   "codemirror_mode": {
    "name": "ipython",
    "version": 3
   },
   "file_extension": ".py",
   "mimetype": "text/x-python",
   "name": "python",
   "nbconvert_exporter": "python",
   "pygments_lexer": "ipython3",
   "version": "3.9.7"
  }
 },
 "nbformat": 4,
 "nbformat_minor": 5
}
