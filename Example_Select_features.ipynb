{
 "cells": [
  {
   "cell_type": "code",
   "execution_count": 1,
   "id": "d3532acd",
   "metadata": {},
   "outputs": [],
   "source": [
    "import pandas as pd"
   ]
  },
  {
   "cell_type": "code",
   "execution_count": 2,
   "id": "7fb70dd6",
   "metadata": {},
   "outputs": [],
   "source": [
    "data=pd.read_csv('smoke_detection_iot.csv')"
   ]
  },
  {
   "cell_type": "code",
   "execution_count": 3,
   "id": "67275851",
   "metadata": {},
   "outputs": [
    {
     "data": {
      "text/html": [
       "<div>\n",
       "<style scoped>\n",
       "    .dataframe tbody tr th:only-of-type {\n",
       "        vertical-align: middle;\n",
       "    }\n",
       "\n",
       "    .dataframe tbody tr th {\n",
       "        vertical-align: top;\n",
       "    }\n",
       "\n",
       "    .dataframe thead th {\n",
       "        text-align: right;\n",
       "    }\n",
       "</style>\n",
       "<table border=\"1\" class=\"dataframe\">\n",
       "  <thead>\n",
       "    <tr style=\"text-align: right;\">\n",
       "      <th></th>\n",
       "      <th>Unnamed: 0</th>\n",
       "      <th>UTC</th>\n",
       "      <th>Temperature[C]</th>\n",
       "      <th>Humidity[%]</th>\n",
       "      <th>TVOC[ppb]</th>\n",
       "      <th>eCO2[ppm]</th>\n",
       "      <th>Raw H2</th>\n",
       "      <th>Raw Ethanol</th>\n",
       "      <th>Pressure[hPa]</th>\n",
       "      <th>PM1.0</th>\n",
       "      <th>PM2.5</th>\n",
       "      <th>NC0.5</th>\n",
       "      <th>NC1.0</th>\n",
       "      <th>NC2.5</th>\n",
       "      <th>CNT</th>\n",
       "      <th>Fire Alarm</th>\n",
       "    </tr>\n",
       "  </thead>\n",
       "  <tbody>\n",
       "    <tr>\n",
       "      <th>0</th>\n",
       "      <td>0</td>\n",
       "      <td>1654733331</td>\n",
       "      <td>20.000</td>\n",
       "      <td>57.36</td>\n",
       "      <td>0</td>\n",
       "      <td>400</td>\n",
       "      <td>12306</td>\n",
       "      <td>18520</td>\n",
       "      <td>939.735</td>\n",
       "      <td>0.00</td>\n",
       "      <td>0.00</td>\n",
       "      <td>0.00</td>\n",
       "      <td>0.000</td>\n",
       "      <td>0.000</td>\n",
       "      <td>0</td>\n",
       "      <td>0</td>\n",
       "    </tr>\n",
       "    <tr>\n",
       "      <th>1</th>\n",
       "      <td>1</td>\n",
       "      <td>1654733332</td>\n",
       "      <td>20.015</td>\n",
       "      <td>56.67</td>\n",
       "      <td>0</td>\n",
       "      <td>400</td>\n",
       "      <td>12345</td>\n",
       "      <td>18651</td>\n",
       "      <td>939.744</td>\n",
       "      <td>0.00</td>\n",
       "      <td>0.00</td>\n",
       "      <td>0.00</td>\n",
       "      <td>0.000</td>\n",
       "      <td>0.000</td>\n",
       "      <td>1</td>\n",
       "      <td>0</td>\n",
       "    </tr>\n",
       "    <tr>\n",
       "      <th>2</th>\n",
       "      <td>2</td>\n",
       "      <td>1654733333</td>\n",
       "      <td>20.029</td>\n",
       "      <td>55.96</td>\n",
       "      <td>0</td>\n",
       "      <td>400</td>\n",
       "      <td>12374</td>\n",
       "      <td>18764</td>\n",
       "      <td>939.738</td>\n",
       "      <td>0.00</td>\n",
       "      <td>0.00</td>\n",
       "      <td>0.00</td>\n",
       "      <td>0.000</td>\n",
       "      <td>0.000</td>\n",
       "      <td>2</td>\n",
       "      <td>0</td>\n",
       "    </tr>\n",
       "    <tr>\n",
       "      <th>3</th>\n",
       "      <td>3</td>\n",
       "      <td>1654733334</td>\n",
       "      <td>20.044</td>\n",
       "      <td>55.28</td>\n",
       "      <td>0</td>\n",
       "      <td>400</td>\n",
       "      <td>12390</td>\n",
       "      <td>18849</td>\n",
       "      <td>939.736</td>\n",
       "      <td>0.00</td>\n",
       "      <td>0.00</td>\n",
       "      <td>0.00</td>\n",
       "      <td>0.000</td>\n",
       "      <td>0.000</td>\n",
       "      <td>3</td>\n",
       "      <td>0</td>\n",
       "    </tr>\n",
       "    <tr>\n",
       "      <th>4</th>\n",
       "      <td>4</td>\n",
       "      <td>1654733335</td>\n",
       "      <td>20.059</td>\n",
       "      <td>54.69</td>\n",
       "      <td>0</td>\n",
       "      <td>400</td>\n",
       "      <td>12403</td>\n",
       "      <td>18921</td>\n",
       "      <td>939.744</td>\n",
       "      <td>0.00</td>\n",
       "      <td>0.00</td>\n",
       "      <td>0.00</td>\n",
       "      <td>0.000</td>\n",
       "      <td>0.000</td>\n",
       "      <td>4</td>\n",
       "      <td>0</td>\n",
       "    </tr>\n",
       "    <tr>\n",
       "      <th>...</th>\n",
       "      <td>...</td>\n",
       "      <td>...</td>\n",
       "      <td>...</td>\n",
       "      <td>...</td>\n",
       "      <td>...</td>\n",
       "      <td>...</td>\n",
       "      <td>...</td>\n",
       "      <td>...</td>\n",
       "      <td>...</td>\n",
       "      <td>...</td>\n",
       "      <td>...</td>\n",
       "      <td>...</td>\n",
       "      <td>...</td>\n",
       "      <td>...</td>\n",
       "      <td>...</td>\n",
       "      <td>...</td>\n",
       "    </tr>\n",
       "    <tr>\n",
       "      <th>95</th>\n",
       "      <td>95</td>\n",
       "      <td>1654733426</td>\n",
       "      <td>21.323</td>\n",
       "      <td>53.65</td>\n",
       "      <td>23</td>\n",
       "      <td>419</td>\n",
       "      <td>12528</td>\n",
       "      <td>19619</td>\n",
       "      <td>939.799</td>\n",
       "      <td>0.22</td>\n",
       "      <td>0.69</td>\n",
       "      <td>0.39</td>\n",
       "      <td>0.788</td>\n",
       "      <td>0.449</td>\n",
       "      <td>95</td>\n",
       "      <td>0</td>\n",
       "    </tr>\n",
       "    <tr>\n",
       "      <th>96</th>\n",
       "      <td>96</td>\n",
       "      <td>1654733427</td>\n",
       "      <td>21.336</td>\n",
       "      <td>53.96</td>\n",
       "      <td>33</td>\n",
       "      <td>421</td>\n",
       "      <td>12524</td>\n",
       "      <td>19614</td>\n",
       "      <td>939.801</td>\n",
       "      <td>0.20</td>\n",
       "      <td>0.63</td>\n",
       "      <td>0.36</td>\n",
       "      <td>0.718</td>\n",
       "      <td>0.409</td>\n",
       "      <td>96</td>\n",
       "      <td>0</td>\n",
       "    </tr>\n",
       "    <tr>\n",
       "      <th>97</th>\n",
       "      <td>97</td>\n",
       "      <td>1654733428</td>\n",
       "      <td>21.349</td>\n",
       "      <td>54.25</td>\n",
       "      <td>21</td>\n",
       "      <td>417</td>\n",
       "      <td>12530</td>\n",
       "      <td>19610</td>\n",
       "      <td>939.795</td>\n",
       "      <td>0.16</td>\n",
       "      <td>0.49</td>\n",
       "      <td>0.28</td>\n",
       "      <td>0.561</td>\n",
       "      <td>0.320</td>\n",
       "      <td>97</td>\n",
       "      <td>0</td>\n",
       "    </tr>\n",
       "    <tr>\n",
       "      <th>98</th>\n",
       "      <td>98</td>\n",
       "      <td>1654733429</td>\n",
       "      <td>21.362</td>\n",
       "      <td>54.52</td>\n",
       "      <td>19</td>\n",
       "      <td>418</td>\n",
       "      <td>12529</td>\n",
       "      <td>19626</td>\n",
       "      <td>939.799</td>\n",
       "      <td>0.14</td>\n",
       "      <td>0.44</td>\n",
       "      <td>0.25</td>\n",
       "      <td>0.501</td>\n",
       "      <td>0.286</td>\n",
       "      <td>98</td>\n",
       "      <td>0</td>\n",
       "    </tr>\n",
       "    <tr>\n",
       "      <th>99</th>\n",
       "      <td>99</td>\n",
       "      <td>1654733430</td>\n",
       "      <td>21.375</td>\n",
       "      <td>54.74</td>\n",
       "      <td>14</td>\n",
       "      <td>405</td>\n",
       "      <td>12533</td>\n",
       "      <td>19624</td>\n",
       "      <td>939.784</td>\n",
       "      <td>0.12</td>\n",
       "      <td>0.36</td>\n",
       "      <td>0.21</td>\n",
       "      <td>0.414</td>\n",
       "      <td>0.236</td>\n",
       "      <td>99</td>\n",
       "      <td>0</td>\n",
       "    </tr>\n",
       "  </tbody>\n",
       "</table>\n",
       "<p>100 rows × 16 columns</p>\n",
       "</div>"
      ],
      "text/plain": [
       "    Unnamed: 0         UTC  Temperature[C]  Humidity[%]  TVOC[ppb]  eCO2[ppm]  \\\n",
       "0            0  1654733331          20.000        57.36          0        400   \n",
       "1            1  1654733332          20.015        56.67          0        400   \n",
       "2            2  1654733333          20.029        55.96          0        400   \n",
       "3            3  1654733334          20.044        55.28          0        400   \n",
       "4            4  1654733335          20.059        54.69          0        400   \n",
       "..         ...         ...             ...          ...        ...        ...   \n",
       "95          95  1654733426          21.323        53.65         23        419   \n",
       "96          96  1654733427          21.336        53.96         33        421   \n",
       "97          97  1654733428          21.349        54.25         21        417   \n",
       "98          98  1654733429          21.362        54.52         19        418   \n",
       "99          99  1654733430          21.375        54.74         14        405   \n",
       "\n",
       "    Raw H2  Raw Ethanol  Pressure[hPa]  PM1.0  PM2.5  NC0.5  NC1.0  NC2.5  \\\n",
       "0    12306        18520        939.735   0.00   0.00   0.00  0.000  0.000   \n",
       "1    12345        18651        939.744   0.00   0.00   0.00  0.000  0.000   \n",
       "2    12374        18764        939.738   0.00   0.00   0.00  0.000  0.000   \n",
       "3    12390        18849        939.736   0.00   0.00   0.00  0.000  0.000   \n",
       "4    12403        18921        939.744   0.00   0.00   0.00  0.000  0.000   \n",
       "..     ...          ...            ...    ...    ...    ...    ...    ...   \n",
       "95   12528        19619        939.799   0.22   0.69   0.39  0.788  0.449   \n",
       "96   12524        19614        939.801   0.20   0.63   0.36  0.718  0.409   \n",
       "97   12530        19610        939.795   0.16   0.49   0.28  0.561  0.320   \n",
       "98   12529        19626        939.799   0.14   0.44   0.25  0.501  0.286   \n",
       "99   12533        19624        939.784   0.12   0.36   0.21  0.414  0.236   \n",
       "\n",
       "    CNT  Fire Alarm  \n",
       "0     0           0  \n",
       "1     1           0  \n",
       "2     2           0  \n",
       "3     3           0  \n",
       "4     4           0  \n",
       "..  ...         ...  \n",
       "95   95           0  \n",
       "96   96           0  \n",
       "97   97           0  \n",
       "98   98           0  \n",
       "99   99           0  \n",
       "\n",
       "[100 rows x 16 columns]"
      ]
     },
     "execution_count": 3,
     "metadata": {},
     "output_type": "execute_result"
    }
   ],
   "source": [
    "data.head(100)"
   ]
  },
  {
   "cell_type": "code",
   "execution_count": 4,
   "id": "991f347d",
   "metadata": {},
   "outputs": [
    {
     "name": "stdout",
     "output_type": "stream",
     "text": [
      "<class 'pandas.core.frame.DataFrame'>\n",
      "RangeIndex: 62630 entries, 0 to 62629\n",
      "Data columns (total 16 columns):\n",
      " #   Column          Non-Null Count  Dtype  \n",
      "---  ------          --------------  -----  \n",
      " 0   Unnamed: 0      62630 non-null  int64  \n",
      " 1   UTC             62630 non-null  int64  \n",
      " 2   Temperature[C]  62630 non-null  float64\n",
      " 3   Humidity[%]     62630 non-null  float64\n",
      " 4   TVOC[ppb]       62630 non-null  int64  \n",
      " 5   eCO2[ppm]       62630 non-null  int64  \n",
      " 6   Raw H2          62630 non-null  int64  \n",
      " 7   Raw Ethanol     62630 non-null  int64  \n",
      " 8   Pressure[hPa]   62630 non-null  float64\n",
      " 9   PM1.0           62630 non-null  float64\n",
      " 10  PM2.5           62630 non-null  float64\n",
      " 11  NC0.5           62630 non-null  float64\n",
      " 12  NC1.0           62630 non-null  float64\n",
      " 13  NC2.5           62630 non-null  float64\n",
      " 14  CNT             62630 non-null  int64  \n",
      " 15  Fire Alarm      62630 non-null  int64  \n",
      "dtypes: float64(8), int64(8)\n",
      "memory usage: 7.6 MB\n"
     ]
    }
   ],
   "source": [
    "data.info()"
   ]
  },
  {
   "cell_type": "code",
   "execution_count": 5,
   "id": "04c51ac7",
   "metadata": {},
   "outputs": [],
   "source": [
    "data=data.drop(columns=['Unnamed: 0'])"
   ]
  },
  {
   "cell_type": "code",
   "execution_count": 6,
   "id": "fcac5786",
   "metadata": {},
   "outputs": [
    {
     "data": {
      "text/html": [
       "<div>\n",
       "<style scoped>\n",
       "    .dataframe tbody tr th:only-of-type {\n",
       "        vertical-align: middle;\n",
       "    }\n",
       "\n",
       "    .dataframe tbody tr th {\n",
       "        vertical-align: top;\n",
       "    }\n",
       "\n",
       "    .dataframe thead th {\n",
       "        text-align: right;\n",
       "    }\n",
       "</style>\n",
       "<table border=\"1\" class=\"dataframe\">\n",
       "  <thead>\n",
       "    <tr style=\"text-align: right;\">\n",
       "      <th></th>\n",
       "      <th>UTC</th>\n",
       "      <th>Temperature[C]</th>\n",
       "      <th>Humidity[%]</th>\n",
       "      <th>TVOC[ppb]</th>\n",
       "      <th>eCO2[ppm]</th>\n",
       "      <th>Raw H2</th>\n",
       "      <th>Raw Ethanol</th>\n",
       "      <th>Pressure[hPa]</th>\n",
       "      <th>PM1.0</th>\n",
       "      <th>PM2.5</th>\n",
       "      <th>NC0.5</th>\n",
       "      <th>NC1.0</th>\n",
       "      <th>NC2.5</th>\n",
       "      <th>CNT</th>\n",
       "      <th>Fire Alarm</th>\n",
       "    </tr>\n",
       "  </thead>\n",
       "  <tbody>\n",
       "    <tr>\n",
       "      <th>0</th>\n",
       "      <td>1654733331</td>\n",
       "      <td>20.000</td>\n",
       "      <td>57.36</td>\n",
       "      <td>0</td>\n",
       "      <td>400</td>\n",
       "      <td>12306</td>\n",
       "      <td>18520</td>\n",
       "      <td>939.735</td>\n",
       "      <td>0.0</td>\n",
       "      <td>0.0</td>\n",
       "      <td>0.0</td>\n",
       "      <td>0.0</td>\n",
       "      <td>0.0</td>\n",
       "      <td>0</td>\n",
       "      <td>0</td>\n",
       "    </tr>\n",
       "    <tr>\n",
       "      <th>1</th>\n",
       "      <td>1654733332</td>\n",
       "      <td>20.015</td>\n",
       "      <td>56.67</td>\n",
       "      <td>0</td>\n",
       "      <td>400</td>\n",
       "      <td>12345</td>\n",
       "      <td>18651</td>\n",
       "      <td>939.744</td>\n",
       "      <td>0.0</td>\n",
       "      <td>0.0</td>\n",
       "      <td>0.0</td>\n",
       "      <td>0.0</td>\n",
       "      <td>0.0</td>\n",
       "      <td>1</td>\n",
       "      <td>0</td>\n",
       "    </tr>\n",
       "    <tr>\n",
       "      <th>2</th>\n",
       "      <td>1654733333</td>\n",
       "      <td>20.029</td>\n",
       "      <td>55.96</td>\n",
       "      <td>0</td>\n",
       "      <td>400</td>\n",
       "      <td>12374</td>\n",
       "      <td>18764</td>\n",
       "      <td>939.738</td>\n",
       "      <td>0.0</td>\n",
       "      <td>0.0</td>\n",
       "      <td>0.0</td>\n",
       "      <td>0.0</td>\n",
       "      <td>0.0</td>\n",
       "      <td>2</td>\n",
       "      <td>0</td>\n",
       "    </tr>\n",
       "    <tr>\n",
       "      <th>3</th>\n",
       "      <td>1654733334</td>\n",
       "      <td>20.044</td>\n",
       "      <td>55.28</td>\n",
       "      <td>0</td>\n",
       "      <td>400</td>\n",
       "      <td>12390</td>\n",
       "      <td>18849</td>\n",
       "      <td>939.736</td>\n",
       "      <td>0.0</td>\n",
       "      <td>0.0</td>\n",
       "      <td>0.0</td>\n",
       "      <td>0.0</td>\n",
       "      <td>0.0</td>\n",
       "      <td>3</td>\n",
       "      <td>0</td>\n",
       "    </tr>\n",
       "    <tr>\n",
       "      <th>4</th>\n",
       "      <td>1654733335</td>\n",
       "      <td>20.059</td>\n",
       "      <td>54.69</td>\n",
       "      <td>0</td>\n",
       "      <td>400</td>\n",
       "      <td>12403</td>\n",
       "      <td>18921</td>\n",
       "      <td>939.744</td>\n",
       "      <td>0.0</td>\n",
       "      <td>0.0</td>\n",
       "      <td>0.0</td>\n",
       "      <td>0.0</td>\n",
       "      <td>0.0</td>\n",
       "      <td>4</td>\n",
       "      <td>0</td>\n",
       "    </tr>\n",
       "  </tbody>\n",
       "</table>\n",
       "</div>"
      ],
      "text/plain": [
       "          UTC  Temperature[C]  Humidity[%]  TVOC[ppb]  eCO2[ppm]  Raw H2  \\\n",
       "0  1654733331          20.000        57.36          0        400   12306   \n",
       "1  1654733332          20.015        56.67          0        400   12345   \n",
       "2  1654733333          20.029        55.96          0        400   12374   \n",
       "3  1654733334          20.044        55.28          0        400   12390   \n",
       "4  1654733335          20.059        54.69          0        400   12403   \n",
       "\n",
       "   Raw Ethanol  Pressure[hPa]  PM1.0  PM2.5  NC0.5  NC1.0  NC2.5  CNT  \\\n",
       "0        18520        939.735    0.0    0.0    0.0    0.0    0.0    0   \n",
       "1        18651        939.744    0.0    0.0    0.0    0.0    0.0    1   \n",
       "2        18764        939.738    0.0    0.0    0.0    0.0    0.0    2   \n",
       "3        18849        939.736    0.0    0.0    0.0    0.0    0.0    3   \n",
       "4        18921        939.744    0.0    0.0    0.0    0.0    0.0    4   \n",
       "\n",
       "   Fire Alarm  \n",
       "0           0  \n",
       "1           0  \n",
       "2           0  \n",
       "3           0  \n",
       "4           0  "
      ]
     },
     "execution_count": 6,
     "metadata": {},
     "output_type": "execute_result"
    }
   ],
   "source": [
    "data.head()"
   ]
  },
  {
   "cell_type": "code",
   "execution_count": 7,
   "id": "94a2b5a2",
   "metadata": {},
   "outputs": [
    {
     "data": {
      "text/plain": [
       "UTC                   0\n",
       "Temperature[C]        1\n",
       "Humidity[%]           0\n",
       "TVOC[ppb]          2698\n",
       "eCO2[ppm]             0\n",
       "Raw H2                0\n",
       "Raw Ethanol           0\n",
       "Pressure[hPa]         0\n",
       "PM1.0               140\n",
       "PM2.5               118\n",
       "NC0.5               182\n",
       "NC1.0                80\n",
       "NC2.5                88\n",
       "CNT                   5\n",
       "Fire Alarm        17873\n",
       "dtype: int64"
      ]
     },
     "execution_count": 7,
     "metadata": {},
     "output_type": "execute_result"
    }
   ],
   "source": [
    "data.eq(0).sum()"
   ]
  },
  {
   "cell_type": "code",
   "execution_count": 8,
   "id": "6611fd6a",
   "metadata": {},
   "outputs": [],
   "source": [
    "X=data.iloc[:,0:14]\n",
    "Y=data.iloc[:,-1]"
   ]
  },
  {
   "cell_type": "markdown",
   "id": "9f2047ca",
   "metadata": {},
   "source": [
    "PHƯƠNG PHÁP LỌC"
   ]
  },
  {
   "cell_type": "markdown",
   "id": "7fb8b6f9",
   "metadata": {},
   "source": [
    "Information Gain"
   ]
  },
  {
   "cell_type": "code",
   "execution_count": 9,
   "id": "7806baca",
   "metadata": {},
   "outputs": [
    {
     "data": {
      "image/png": "[encoded data removed]",
      "text/plain": [
       "<Figure size 432x288 with 1 Axes>"
      ]
     },
     "metadata": {
      "needs_background": "light"
     },
     "output_type": "display_data"
    }
   ],
   "source": [
    "from sklearn.feature_selection import mutual_info_classif\n",
    "import matplotlib.pyplot as plt\n",
    "%matplotlib inline\n",
    "importances=mutual_info_classif(X,Y)\n",
    "feat_importances=pd.Series(importances,data.columns[0:len(data.columns)-1])\n",
    "feat_importances.plot(kind='barh',color='teal')\n",
    "plt.show()"
   ]
  },
  {
   "cell_type": "markdown",
   "id": "e8e42406",
   "metadata": {},
   "source": [
    "Chi-square Test"
   ]
  },
  {
   "cell_type": "code",
   "execution_count": 10,
   "id": "481e946f",
   "metadata": {},
   "outputs": [
    {
     "name": "stdout",
     "output_type": "stream",
     "text": [
      "SelectKBest(k=5, score_func=<function chi2 at 0x00000292A606F5E0>)\n"
     ]
    }
   ],
   "source": [
    "from sklearn.feature_selection import SelectKBest\n",
    "from sklearn.feature_selection import chi2\n",
    "X_abs=abs(X)\n",
    "chi2_features=SelectKBest(score_func=chi2,k=5)\n",
    "X_kbest_features=chi2_features.fit(X_abs,Y)\n",
    "print(X_kbest_features)"
   ]
  },
  {
   "cell_type": "code",
   "execution_count": 11,
   "id": "7a226383",
   "metadata": {},
   "outputs": [],
   "source": [
    "df_scores = pd.DataFrame(X_kbest_features.scores_)\n",
    "df_columns = pd.DataFrame(X.columns)\n",
    "f_Scores = pd.concat([df_columns,df_scores],axis=1)           \n",
    "f_Scores.columns = ['Specs','Score']  "
   ]
  },
  {
   "cell_type": "code",
   "execution_count": 12,
   "id": "e2d003de",
   "metadata": {},
   "outputs": [
    {
     "data": {
      "text/html": [
       "<div>\n",
       "<style scoped>\n",
       "    .dataframe tbody tr th:only-of-type {\n",
       "        vertical-align: middle;\n",
       "    }\n",
       "\n",
       "    .dataframe tbody tr th {\n",
       "        vertical-align: top;\n",
       "    }\n",
       "\n",
       "    .dataframe thead th {\n",
       "        text-align: right;\n",
       "    }\n",
       "</style>\n",
       "<table border=\"1\" class=\"dataframe\">\n",
       "  <thead>\n",
       "    <tr style=\"text-align: right;\">\n",
       "      <th></th>\n",
       "      <th>Specs</th>\n",
       "      <th>Score</th>\n",
       "    </tr>\n",
       "  </thead>\n",
       "  <tbody>\n",
       "    <tr>\n",
       "      <th>0</th>\n",
       "      <td>UTC</td>\n",
       "      <td>6.944436e+04</td>\n",
       "    </tr>\n",
       "    <tr>\n",
       "      <th>1</th>\n",
       "      <td>Temperature[C]</td>\n",
       "      <td>8.772939e+03</td>\n",
       "    </tr>\n",
       "    <tr>\n",
       "      <th>2</th>\n",
       "      <td>Humidity[%]</td>\n",
       "      <td>1.621287e+04</td>\n",
       "    </tr>\n",
       "    <tr>\n",
       "      <th>3</th>\n",
       "      <td>TVOC[ppb]</td>\n",
       "      <td>9.074694e+07</td>\n",
       "    </tr>\n",
       "    <tr>\n",
       "      <th>4</th>\n",
       "      <td>eCO2[ppm]</td>\n",
       "      <td>3.195058e+06</td>\n",
       "    </tr>\n",
       "    <tr>\n",
       "      <th>5</th>\n",
       "      <td>Raw H2</td>\n",
       "      <td>4.113416e+03</td>\n",
       "    </tr>\n",
       "    <tr>\n",
       "      <th>6</th>\n",
       "      <td>Raw Ethanol</td>\n",
       "      <td>1.366792e+05</td>\n",
       "    </tr>\n",
       "    <tr>\n",
       "      <th>7</th>\n",
       "      <td>Pressure[hPa]</td>\n",
       "      <td>7.379664e+00</td>\n",
       "    </tr>\n",
       "    <tr>\n",
       "      <th>8</th>\n",
       "      <td>PM1.0</td>\n",
       "      <td>6.475750e+06</td>\n",
       "    </tr>\n",
       "    <tr>\n",
       "      <th>9</th>\n",
       "      <td>PM2.5</td>\n",
       "      <td>9.561944e+06</td>\n",
       "    </tr>\n",
       "    <tr>\n",
       "      <th>10</th>\n",
       "      <td>NC0.5</td>\n",
       "      <td>3.806091e+07</td>\n",
       "    </tr>\n",
       "    <tr>\n",
       "      <th>11</th>\n",
       "      <td>NC1.0</td>\n",
       "      <td>1.035192e+07</td>\n",
       "    </tr>\n",
       "    <tr>\n",
       "      <th>12</th>\n",
       "      <td>NC2.5</td>\n",
       "      <td>3.058067e+06</td>\n",
       "    </tr>\n",
       "    <tr>\n",
       "      <th>13</th>\n",
       "      <td>CNT</td>\n",
       "      <td>1.561393e+08</td>\n",
       "    </tr>\n",
       "  </tbody>\n",
       "</table>\n",
       "</div>"
      ],
      "text/plain": [
       "             Specs         Score\n",
       "0              UTC  6.944436e+04\n",
       "1   Temperature[C]  8.772939e+03\n",
       "2      Humidity[%]  1.621287e+04\n",
       "3        TVOC[ppb]  9.074694e+07\n",
       "4        eCO2[ppm]  3.195058e+06\n",
       "5           Raw H2  4.113416e+03\n",
       "6      Raw Ethanol  1.366792e+05\n",
       "7    Pressure[hPa]  7.379664e+00\n",
       "8            PM1.0  6.475750e+06\n",
       "9            PM2.5  9.561944e+06\n",
       "10           NC0.5  3.806091e+07\n",
       "11           NC1.0  1.035192e+07\n",
       "12           NC2.5  3.058067e+06\n",
       "13             CNT  1.561393e+08"
      ]
     },
     "execution_count": 12,
     "metadata": {},
     "output_type": "execute_result"
    }
   ],
   "source": [
    "f_Scores"
   ]
  },
  {
   "cell_type": "code",
   "execution_count": 13,
   "id": "2880560a",
   "metadata": {},
   "outputs": [
    {
     "data": {
      "text/html": [
       "<div>\n",
       "<style scoped>\n",
       "    .dataframe tbody tr th:only-of-type {\n",
       "        vertical-align: middle;\n",
       "    }\n",
       "\n",
       "    .dataframe tbody tr th {\n",
       "        vertical-align: top;\n",
       "    }\n",
       "\n",
       "    .dataframe thead th {\n",
       "        text-align: right;\n",
       "    }\n",
       "</style>\n",
       "<table border=\"1\" class=\"dataframe\">\n",
       "  <thead>\n",
       "    <tr style=\"text-align: right;\">\n",
       "      <th></th>\n",
       "      <th>Specs</th>\n",
       "      <th>Score</th>\n",
       "    </tr>\n",
       "  </thead>\n",
       "  <tbody>\n",
       "    <tr>\n",
       "      <th>13</th>\n",
       "      <td>CNT</td>\n",
       "      <td>1.561393e+08</td>\n",
       "    </tr>\n",
       "    <tr>\n",
       "      <th>3</th>\n",
       "      <td>TVOC[ppb]</td>\n",
       "      <td>9.074694e+07</td>\n",
       "    </tr>\n",
       "    <tr>\n",
       "      <th>10</th>\n",
       "      <td>NC0.5</td>\n",
       "      <td>3.806091e+07</td>\n",
       "    </tr>\n",
       "    <tr>\n",
       "      <th>11</th>\n",
       "      <td>NC1.0</td>\n",
       "      <td>1.035192e+07</td>\n",
       "    </tr>\n",
       "    <tr>\n",
       "      <th>9</th>\n",
       "      <td>PM2.5</td>\n",
       "      <td>9.561944e+06</td>\n",
       "    </tr>\n",
       "  </tbody>\n",
       "</table>\n",
       "</div>"
      ],
      "text/plain": [
       "        Specs         Score\n",
       "13        CNT  1.561393e+08\n",
       "3   TVOC[ppb]  9.074694e+07\n",
       "10      NC0.5  3.806091e+07\n",
       "11      NC1.0  1.035192e+07\n",
       "9       PM2.5  9.561944e+06"
      ]
     },
     "execution_count": 13,
     "metadata": {},
     "output_type": "execute_result"
    }
   ],
   "source": [
    "f_Scores.nlargest(5,'Score')"
   ]
  },
  {
   "cell_type": "markdown",
   "id": "d6d7e5d8",
   "metadata": {},
   "source": [
    "Fisher’s Score"
   ]
  },
  {
   "cell_type": "markdown",
   "id": "a85bebbb",
   "metadata": {},
   "source": [
    "from skfeature.function.similarity_based import fisher_score\n",
    "import matplotlib.pyplot as plt\n",
    "%matplotlib inline\n",
    "ranks=fisher_score.fisher_score(X,Y)\n",
    "feat_importances=pd.Series(importances,data.columns[0:len(data.columns)-1])\n",
    "feat_importances.plot(kind='barh',color='teal')\n",
    "plt.show()"
   ]
  },
  {
   "cell_type": "markdown",
   "id": "b79461ca",
   "metadata": {},
   "source": [
    "Correlation Coefficient"
   ]
  },
  {
   "cell_type": "code",
   "execution_count": 14,
   "id": "2e9793a7",
   "metadata": {},
   "outputs": [
    {
     "data": {
      "text/plain": [
       "<AxesSubplot:>"
      ]
     },
     "execution_count": 14,
     "metadata": {},
     "output_type": "execute_result"
    },
    {
     "data": {
      "image/png": "[encoded data removed]",
      "text/plain": [
       "<Figure size 1008x1008 with 2 Axes>"
      ]
     },
     "metadata": {
      "needs_background": "light"
     },
     "output_type": "display_data"
    }
   ],
   "source": [
    "import seaborn as sns\n",
    "import matplotlib.pyplot as plt\n",
    "corr=data.corr()\n",
    "plt.figure(figsize=(14,14))\n",
    "sns.heatmap(corr,annot=True)"
   ]
  },
  {
   "cell_type": "code",
   "execution_count": 15,
   "id": "845a5450",
   "metadata": {},
   "outputs": [
    {
     "data": {
      "text/plain": [
       "Fire Alarm       1.000000\n",
       "CNT              0.673762\n",
       "Humidity[%]      0.399846\n",
       "Pressure[hPa]    0.249797\n",
       "Raw H2           0.107007\n",
       "Name: Fire Alarm, dtype: float64"
      ]
     },
     "execution_count": 15,
     "metadata": {},
     "output_type": "execute_result"
    }
   ],
   "source": [
    "corr.nlargest(5,'Fire Alarm')['Fire Alarm']"
   ]
  },
  {
   "cell_type": "markdown",
   "id": "fb49d3fb",
   "metadata": {},
   "source": [
    "Variance Threshold"
   ]
  },
  {
   "cell_type": "code",
   "execution_count": 16,
   "id": "4d59671d",
   "metadata": {},
   "outputs": [
    {
     "data": {
      "text/plain": [
       "array([ True,  True,  True,  True,  True,  True,  True,  True,  True,\n",
       "        True,  True,  True,  True,  True])"
      ]
     },
     "execution_count": 16,
     "metadata": {},
     "output_type": "execute_result"
    }
   ],
   "source": [
    "from sklearn.feature_selection import VarianceThreshold\n",
    "X=data.iloc[:,0:14]\n",
    "v_threshold=VarianceThreshold(threshold=0.2)\n",
    "v_threshold.fit(X)\n",
    "v_threshold.get_support()"
   ]
  },
  {
   "cell_type": "markdown",
   "id": "6042cfa7",
   "metadata": {},
   "source": [
    "Mean Absolute Difference (MAD)"
   ]
  },
  {
   "cell_type": "code",
   "execution_count": 17,
   "id": "d240128b",
   "metadata": {},
   "outputs": [
    {
     "data": {
      "text/plain": [
       "<BarContainer object of 14 artists>"
      ]
     },
     "execution_count": 17,
     "metadata": {},
     "output_type": "execute_result"
    },
    {
     "data": {
      "image/png": "[encoded data removed]",
      "text/plain": [
       "<Figure size 432x288 with 1 Axes>"
      ]
     },
     "metadata": {
      "needs_background": "light"
     },
     "output_type": "display_data"
    }
   ],
   "source": [
    "import numpy as np\n",
    "mean_abs_diff=np.sum(np.abs(X-np.mean(X,axis=0)),axis=0)/X.shape[0]\n",
    "plt.bar(np.arange(X.shape[1]),mean_abs_diff,color='teal')"
   ]
  },
  {
   "cell_type": "markdown",
   "id": "c700de27",
   "metadata": {},
   "source": [
    "Dispersion ratio"
   ]
  },
  {
   "cell_type": "code",
   "execution_count": 18,
   "id": "46e5cbb0",
   "metadata": {},
   "outputs": [
    {
     "data": {
      "text/plain": [
       "62630"
      ]
     },
     "execution_count": 18,
     "metadata": {},
     "output_type": "execute_result"
    }
   ],
   "source": [
    "Features=X.columns\n",
    "X.head()\n",
    "X.shape[0]"
   ]
  },
  {
   "cell_type": "code",
   "execution_count": 19,
   "id": "f20ee6ba",
   "metadata": {},
   "outputs": [
    {
     "name": "stderr",
     "output_type": "stream",
     "text": [
      "C:\\Users\\Hi\\anaconda3\\lib\\site-packages\\numpy\\core\\_methods.py:51: RuntimeWarning: overflow encountered in reduce\n",
      "  return umr_prod(a, axis, dtype, out, keepdims, initial, where)\n"
     ]
    },
    {
     "data": {
      "text/plain": [
       "<BarContainer object of 14 artists>"
      ]
     },
     "execution_count": 19,
     "metadata": {},
     "output_type": "execute_result"
    },
    {
     "data": {
      "image/png": "[encoded data removed]",
      "text/plain": [
       "<Figure size 432x288 with 1 Axes>"
      ]
     },
     "metadata": {
      "needs_background": "light"
     },
     "output_type": "display_data"
    }
   ],
   "source": [
    "X=data.iloc[:,0:14]\n",
    "AM=np.mean(X,axis=0)\n",
    "GM=np.power(np.prod(X),1/X.shape[0])\n",
    "disp_ratio=AM/GM\n",
    "plt.bar(np.arange(X.shape[1]),AM,color='teal')\n",
    "#plt.bar(np.arange(X.shape[1]),GM,color='teal')"
   ]
  },
  {
   "cell_type": "code",
   "execution_count": 20,
   "id": "ac5e89e7",
   "metadata": {},
   "outputs": [
    {
     "data": {
      "text/plain": [
       "UTC               0.0\n",
       "Temperature[C]    NaN\n",
       "Humidity[%]       inf\n",
       "TVOC[ppb]         0.0\n",
       "eCO2[ppm]         0.0\n",
       "Raw H2            0.0\n",
       "Raw Ethanol       0.0\n",
       "Pressure[hPa]     inf\n",
       "PM1.0             0.0\n",
       "PM2.5             0.0\n",
       "NC0.5             0.0\n",
       "NC1.0             0.0\n",
       "NC2.5             0.0\n",
       "CNT               0.0\n",
       "dtype: float64"
      ]
     },
     "execution_count": 20,
     "metadata": {},
     "output_type": "execute_result"
    }
   ],
   "source": [
    "GM"
   ]
  },
  {
   "cell_type": "markdown",
   "id": "f6bcc916",
   "metadata": {},
   "source": [
    "Phương pháp gói"
   ]
  },
  {
   "cell_type": "markdown",
   "id": "1709c61e",
   "metadata": {},
   "source": [
    "Forward Feature Selection"
   ]
  },
  {
   "cell_type": "code",
   "execution_count": 21,
   "id": "bc1e0662",
   "metadata": {},
   "outputs": [],
   "source": [
    "X=data.iloc[:,0:14]\n",
    "Y=data.iloc[:,-1]"
   ]
  },
  {
   "cell_type": "code",
   "execution_count": 23,
   "id": "3c181945",
   "metadata": {},
   "outputs": [],
   "source": [
    "from mlxtend.feature_selection import SequentialFeatureSelector\n",
    "from sklearn.linear_model import LogisticRegression\n",
    "lr=LogisticRegression(class_weight='balanced',solver='lbfgs',random_state=42,n_jobs=-1)\n",
    "ffs=SequentialFeatureSelector(lr,k_features='best',forward=True,n_jobs=-1)\n",
    "ffs.fit(X,Y)\n",
    "features=list(ffs.k_feature_names_)\n",
    "#features=list(map(int,features))\n",
    "lr.fit(X[features],Y)\n",
    "y_pred=lr.predict(X[features])"
   ]
  },
  {
   "cell_type": "code",
   "execution_count": 24,
   "id": "d30dbd5c",
   "metadata": {},
   "outputs": [
    {
     "name": "stdout",
     "output_type": "stream",
     "text": [
      "<class 'pandas.core.frame.DataFrame'>\n",
      "RangeIndex: 62630 entries, 0 to 62629\n",
      "Data columns (total 10 columns):\n",
      " #   Column         Non-Null Count  Dtype  \n",
      "---  ------         --------------  -----  \n",
      " 0   Humidity[%]    62630 non-null  float64\n",
      " 1   TVOC[ppb]      62630 non-null  int64  \n",
      " 2   eCO2[ppm]      62630 non-null  int64  \n",
      " 3   Raw H2         62630 non-null  int64  \n",
      " 4   Raw Ethanol    62630 non-null  int64  \n",
      " 5   Pressure[hPa]  62630 non-null  float64\n",
      " 6   PM1.0          62630 non-null  float64\n",
      " 7   PM2.5          62630 non-null  float64\n",
      " 8   NC1.0          62630 non-null  float64\n",
      " 9   CNT            62630 non-null  int64  \n",
      "dtypes: float64(5), int64(5)\n",
      "memory usage: 4.8 MB\n"
     ]
    }
   ],
   "source": [
    "X[features].info()"
   ]
  },
  {
   "cell_type": "markdown",
   "id": "67aacc23",
   "metadata": {},
   "source": [
    "Backward Feature Elimination"
   ]
  },
  {
   "cell_type": "code",
   "execution_count": 26,
   "id": "18d27e0a",
   "metadata": {},
   "outputs": [],
   "source": [
    "from mlxtend.feature_selection import SequentialFeatureSelector\n",
    "from sklearn.linear_model import LogisticRegression\n",
    "lr=LogisticRegression(class_weight='balanced',solver='lbfgs',random_state=42,n_jobs=-1,max_iter=500)\n",
    "lr.fit(X,Y)\n",
    "bfs=SequentialFeatureSelector(lr,k_features='best',forward=False,n_jobs=-1)\n",
    "bfs.fit(X,Y)\n",
    "features=list(bfs.k_feature_names_)\n",
    "#features=list(map(int,features))\n",
    "lr.fit(X[features],Y)\n",
    "y_pred=lr.predict(X[features])"
   ]
  },
  {
   "cell_type": "code",
   "execution_count": 27,
   "id": "02741104",
   "metadata": {},
   "outputs": [
    {
     "name": "stdout",
     "output_type": "stream",
     "text": [
      "<class 'pandas.core.frame.DataFrame'>\n",
      "RangeIndex: 62630 entries, 0 to 62629\n",
      "Data columns (total 9 columns):\n",
      " #   Column       Non-Null Count  Dtype  \n",
      "---  ------       --------------  -----  \n",
      " 0   Humidity[%]  62630 non-null  float64\n",
      " 1   TVOC[ppb]    62630 non-null  int64  \n",
      " 2   eCO2[ppm]    62630 non-null  int64  \n",
      " 3   Raw H2       62630 non-null  int64  \n",
      " 4   Raw Ethanol  62630 non-null  int64  \n",
      " 5   PM1.0        62630 non-null  float64\n",
      " 6   PM2.5        62630 non-null  float64\n",
      " 7   NC2.5        62630 non-null  float64\n",
      " 8   CNT          62630 non-null  int64  \n",
      "dtypes: float64(4), int64(5)\n",
      "memory usage: 4.3 MB\n"
     ]
    }
   ],
   "source": [
    "X[features].info()"
   ]
  },
  {
   "cell_type": "markdown",
   "id": "7f5185c0",
   "metadata": {},
   "source": [
    "Exhaustive Feature Selection"
   ]
  },
  {
   "cell_type": "code",
   "execution_count": 28,
   "id": "58938c8c",
   "metadata": {},
   "outputs": [],
   "source": [
    "from mlxtend.feature_selection import ExhaustiveFeatureSelector\n",
    "from sklearn.ensemble import RandomForestClassifier\n",
    "\n",
    "efs=ExhaustiveFeatureSelector(RandomForestClassifier(),min_features=5,max_features=14,scoring='roc_auc',cv=2)\n",
    "efs=efs.fit(X,Y)\n",
    "selected_features=X.columns[list(efs.best_idx_)]\n",
    "selected_features,efs.best_score_"
   ]
  },
  {
   "cell_type": "markdown",
   "id": "0c0d410b",
   "metadata": {},
   "source": [
    "Recursive Feature Elimination"
   ]
  },
  {
   "cell_type": "code",
   "execution_count": 88,
   "id": "a58e6168",
   "metadata": {},
   "outputs": [],
   "source": [
    "from sklearn.feature_selection import RFE\n",
    "rfe=RFE(lr,n_features_to_select=7)\n",
    "rfe.fit(X,Y)\n",
    "y_pred=rfe.predict(X)"
   ]
  },
  {
   "cell_type": "code",
   "execution_count": 89,
   "id": "b6b53e33",
   "metadata": {},
   "outputs": [
    {
     "data": {
      "text/html": [
       "<div>\n",
       "<style scoped>\n",
       "    .dataframe tbody tr th:only-of-type {\n",
       "        vertical-align: middle;\n",
       "    }\n",
       "\n",
       "    .dataframe tbody tr th {\n",
       "        vertical-align: top;\n",
       "    }\n",
       "\n",
       "    .dataframe thead th {\n",
       "        text-align: right;\n",
       "    }\n",
       "</style>\n",
       "<table border=\"1\" class=\"dataframe\">\n",
       "  <thead>\n",
       "    <tr style=\"text-align: right;\">\n",
       "      <th></th>\n",
       "      <th>UTC</th>\n",
       "      <th>Temperature[C]</th>\n",
       "      <th>Humidity[%]</th>\n",
       "      <th>TVOC[ppb]</th>\n",
       "      <th>eCO2[ppm]</th>\n",
       "      <th>Raw H2</th>\n",
       "      <th>Raw Ethanol</th>\n",
       "      <th>Pressure[hPa]</th>\n",
       "      <th>PM1.0</th>\n",
       "      <th>PM2.5</th>\n",
       "      <th>NC0.5</th>\n",
       "      <th>NC1.0</th>\n",
       "      <th>NC2.5</th>\n",
       "      <th>CNT</th>\n",
       "    </tr>\n",
       "  </thead>\n",
       "  <tbody>\n",
       "    <tr>\n",
       "      <th>0</th>\n",
       "      <td>1654733331</td>\n",
       "      <td>20.000</td>\n",
       "      <td>57.36</td>\n",
       "      <td>0</td>\n",
       "      <td>400</td>\n",
       "      <td>12306</td>\n",
       "      <td>18520</td>\n",
       "      <td>939.735</td>\n",
       "      <td>0.00</td>\n",
       "      <td>0.00</td>\n",
       "      <td>0.00</td>\n",
       "      <td>0.000</td>\n",
       "      <td>0.000</td>\n",
       "      <td>0</td>\n",
       "    </tr>\n",
       "    <tr>\n",
       "      <th>1</th>\n",
       "      <td>1654733332</td>\n",
       "      <td>20.015</td>\n",
       "      <td>56.67</td>\n",
       "      <td>0</td>\n",
       "      <td>400</td>\n",
       "      <td>12345</td>\n",
       "      <td>18651</td>\n",
       "      <td>939.744</td>\n",
       "      <td>0.00</td>\n",
       "      <td>0.00</td>\n",
       "      <td>0.00</td>\n",
       "      <td>0.000</td>\n",
       "      <td>0.000</td>\n",
       "      <td>1</td>\n",
       "    </tr>\n",
       "    <tr>\n",
       "      <th>2</th>\n",
       "      <td>1654733333</td>\n",
       "      <td>20.029</td>\n",
       "      <td>55.96</td>\n",
       "      <td>0</td>\n",
       "      <td>400</td>\n",
       "      <td>12374</td>\n",
       "      <td>18764</td>\n",
       "      <td>939.738</td>\n",
       "      <td>0.00</td>\n",
       "      <td>0.00</td>\n",
       "      <td>0.00</td>\n",
       "      <td>0.000</td>\n",
       "      <td>0.000</td>\n",
       "      <td>2</td>\n",
       "    </tr>\n",
       "    <tr>\n",
       "      <th>3</th>\n",
       "      <td>1654733334</td>\n",
       "      <td>20.044</td>\n",
       "      <td>55.28</td>\n",
       "      <td>0</td>\n",
       "      <td>400</td>\n",
       "      <td>12390</td>\n",
       "      <td>18849</td>\n",
       "      <td>939.736</td>\n",
       "      <td>0.00</td>\n",
       "      <td>0.00</td>\n",
       "      <td>0.00</td>\n",
       "      <td>0.000</td>\n",
       "      <td>0.000</td>\n",
       "      <td>3</td>\n",
       "    </tr>\n",
       "    <tr>\n",
       "      <th>4</th>\n",
       "      <td>1654733335</td>\n",
       "      <td>20.059</td>\n",
       "      <td>54.69</td>\n",
       "      <td>0</td>\n",
       "      <td>400</td>\n",
       "      <td>12403</td>\n",
       "      <td>18921</td>\n",
       "      <td>939.744</td>\n",
       "      <td>0.00</td>\n",
       "      <td>0.00</td>\n",
       "      <td>0.00</td>\n",
       "      <td>0.000</td>\n",
       "      <td>0.000</td>\n",
       "      <td>4</td>\n",
       "    </tr>\n",
       "    <tr>\n",
       "      <th>...</th>\n",
       "      <td>...</td>\n",
       "      <td>...</td>\n",
       "      <td>...</td>\n",
       "      <td>...</td>\n",
       "      <td>...</td>\n",
       "      <td>...</td>\n",
       "      <td>...</td>\n",
       "      <td>...</td>\n",
       "      <td>...</td>\n",
       "      <td>...</td>\n",
       "      <td>...</td>\n",
       "      <td>...</td>\n",
       "      <td>...</td>\n",
       "      <td>...</td>\n",
       "    </tr>\n",
       "    <tr>\n",
       "      <th>62625</th>\n",
       "      <td>1655130047</td>\n",
       "      <td>18.438</td>\n",
       "      <td>15.79</td>\n",
       "      <td>625</td>\n",
       "      <td>400</td>\n",
       "      <td>13723</td>\n",
       "      <td>20569</td>\n",
       "      <td>936.670</td>\n",
       "      <td>0.63</td>\n",
       "      <td>0.65</td>\n",
       "      <td>4.32</td>\n",
       "      <td>0.673</td>\n",
       "      <td>0.015</td>\n",
       "      <td>5739</td>\n",
       "    </tr>\n",
       "    <tr>\n",
       "      <th>62626</th>\n",
       "      <td>1655130048</td>\n",
       "      <td>18.653</td>\n",
       "      <td>15.87</td>\n",
       "      <td>612</td>\n",
       "      <td>400</td>\n",
       "      <td>13731</td>\n",
       "      <td>20588</td>\n",
       "      <td>936.678</td>\n",
       "      <td>0.61</td>\n",
       "      <td>0.63</td>\n",
       "      <td>4.18</td>\n",
       "      <td>0.652</td>\n",
       "      <td>0.015</td>\n",
       "      <td>5740</td>\n",
       "    </tr>\n",
       "    <tr>\n",
       "      <th>62627</th>\n",
       "      <td>1655130049</td>\n",
       "      <td>18.867</td>\n",
       "      <td>15.84</td>\n",
       "      <td>627</td>\n",
       "      <td>400</td>\n",
       "      <td>13725</td>\n",
       "      <td>20582</td>\n",
       "      <td>936.687</td>\n",
       "      <td>0.57</td>\n",
       "      <td>0.60</td>\n",
       "      <td>3.95</td>\n",
       "      <td>0.617</td>\n",
       "      <td>0.014</td>\n",
       "      <td>5741</td>\n",
       "    </tr>\n",
       "    <tr>\n",
       "      <th>62628</th>\n",
       "      <td>1655130050</td>\n",
       "      <td>19.083</td>\n",
       "      <td>16.04</td>\n",
       "      <td>638</td>\n",
       "      <td>400</td>\n",
       "      <td>13712</td>\n",
       "      <td>20566</td>\n",
       "      <td>936.680</td>\n",
       "      <td>0.57</td>\n",
       "      <td>0.59</td>\n",
       "      <td>3.92</td>\n",
       "      <td>0.611</td>\n",
       "      <td>0.014</td>\n",
       "      <td>5742</td>\n",
       "    </tr>\n",
       "    <tr>\n",
       "      <th>62629</th>\n",
       "      <td>1655130051</td>\n",
       "      <td>19.299</td>\n",
       "      <td>16.52</td>\n",
       "      <td>643</td>\n",
       "      <td>400</td>\n",
       "      <td>13696</td>\n",
       "      <td>20543</td>\n",
       "      <td>936.676</td>\n",
       "      <td>0.57</td>\n",
       "      <td>0.59</td>\n",
       "      <td>3.90</td>\n",
       "      <td>0.607</td>\n",
       "      <td>0.014</td>\n",
       "      <td>5743</td>\n",
       "    </tr>\n",
       "  </tbody>\n",
       "</table>\n",
       "<p>62630 rows × 14 columns</p>\n",
       "</div>"
      ],
      "text/plain": [
       "              UTC  Temperature[C]  Humidity[%]  TVOC[ppb]  eCO2[ppm]  Raw H2  \\\n",
       "0      1654733331          20.000        57.36          0        400   12306   \n",
       "1      1654733332          20.015        56.67          0        400   12345   \n",
       "2      1654733333          20.029        55.96          0        400   12374   \n",
       "3      1654733334          20.044        55.28          0        400   12390   \n",
       "4      1654733335          20.059        54.69          0        400   12403   \n",
       "...           ...             ...          ...        ...        ...     ...   \n",
       "62625  1655130047          18.438        15.79        625        400   13723   \n",
       "62626  1655130048          18.653        15.87        612        400   13731   \n",
       "62627  1655130049          18.867        15.84        627        400   13725   \n",
       "62628  1655130050          19.083        16.04        638        400   13712   \n",
       "62629  1655130051          19.299        16.52        643        400   13696   \n",
       "\n",
       "       Raw Ethanol  Pressure[hPa]  PM1.0  PM2.5  NC0.5  NC1.0  NC2.5   CNT  \n",
       "0            18520        939.735   0.00   0.00   0.00  0.000  0.000     0  \n",
       "1            18651        939.744   0.00   0.00   0.00  0.000  0.000     1  \n",
       "2            18764        939.738   0.00   0.00   0.00  0.000  0.000     2  \n",
       "3            18849        939.736   0.00   0.00   0.00  0.000  0.000     3  \n",
       "4            18921        939.744   0.00   0.00   0.00  0.000  0.000     4  \n",
       "...            ...            ...    ...    ...    ...    ...    ...   ...  \n",
       "62625        20569        936.670   0.63   0.65   4.32  0.673  0.015  5739  \n",
       "62626        20588        936.678   0.61   0.63   4.18  0.652  0.015  5740  \n",
       "62627        20582        936.687   0.57   0.60   3.95  0.617  0.014  5741  \n",
       "62628        20566        936.680   0.57   0.59   3.92  0.611  0.014  5742  \n",
       "62629        20543        936.676   0.57   0.59   3.90  0.607  0.014  5743  \n",
       "\n",
       "[62630 rows x 14 columns]"
      ]
     },
     "execution_count": 89,
     "metadata": {},
     "output_type": "execute_result"
    }
   ],
   "source": [
    "X"
   ]
  },
  {
   "cell_type": "markdown",
   "id": "6a330a36",
   "metadata": {},
   "source": [
    "Phương pháp nhúng"
   ]
  },
  {
   "cell_type": "markdown",
   "id": "f0ed359d",
   "metadata": {},
   "source": [
    "LASSO Regularization (L1)"
   ]
  },
  {
   "cell_type": "code",
   "execution_count": 90,
   "id": "c6dede1d",
   "metadata": {},
   "outputs": [
    {
     "ename": "NameError",
     "evalue": "name 'selected_features' is not defined",
     "output_type": "error",
     "traceback": [
      "\u001b[1;31m---------------------------------------------------------------------------\u001b[0m",
      "\u001b[1;31mNameError\u001b[0m                                 Traceback (most recent call last)",
      "\u001b[1;32m~\\AppData\\Local\\Temp/ipykernel_11908/3242895643.py\u001b[0m in \u001b[0;36m<module>\u001b[1;34m\u001b[0m\n\u001b[0;32m      4\u001b[0m \u001b[0mmodel\u001b[0m\u001b[1;33m=\u001b[0m\u001b[0mSelectFromModel\u001b[0m\u001b[1;33m(\u001b[0m\u001b[0mlogistic\u001b[0m\u001b[1;33m,\u001b[0m\u001b[0mprefit\u001b[0m\u001b[1;33m=\u001b[0m\u001b[1;32mTrue\u001b[0m\u001b[1;33m)\u001b[0m\u001b[1;33m\u001b[0m\u001b[1;33m\u001b[0m\u001b[0m\n\u001b[0;32m      5\u001b[0m \u001b[0mX_new\u001b[0m\u001b[1;33m=\u001b[0m\u001b[0mmodel\u001b[0m\u001b[1;33m.\u001b[0m\u001b[0mtransform\u001b[0m\u001b[1;33m(\u001b[0m\u001b[0mX\u001b[0m\u001b[1;33m)\u001b[0m\u001b[1;33m\u001b[0m\u001b[1;33m\u001b[0m\u001b[0m\n\u001b[1;32m----> 6\u001b[1;33m \u001b[0mselected_columns\u001b[0m\u001b[1;33m=\u001b[0m\u001b[0mselected_features\u001b[0m\u001b[1;33m.\u001b[0m\u001b[0mcolumns\u001b[0m\u001b[1;33m[\u001b[0m\u001b[0mselected_features\u001b[0m\u001b[1;33m.\u001b[0m\u001b[0mvar\u001b[0m\u001b[1;33m(\u001b[0m\u001b[1;33m)\u001b[0m\u001b[1;33m!=\u001b[0m\u001b[1;36m0\u001b[0m\u001b[1;33m]\u001b[0m\u001b[1;33m\u001b[0m\u001b[1;33m\u001b[0m\u001b[0m\n\u001b[0m\u001b[0;32m      7\u001b[0m \u001b[0mselected_columns\u001b[0m\u001b[1;33m\u001b[0m\u001b[1;33m\u001b[0m\u001b[0m\n",
      "\u001b[1;31mNameError\u001b[0m: name 'selected_features' is not defined"
     ]
    }
   ],
   "source": [
    "from sklearn.linear_model import LogisticRegression\n",
    "from sklearn.feature_selection import SelectFromModel\n",
    "logistic=LogisticRegression(C=1,penalty=\"l1\",solver='liblinear',random_state=7).fit(X,Y)\n",
    "model=SelectFromModel(logistic,prefit=True)\n",
    "X_new=model.transform(X)\n",
    "selected_columns=selected_features.columns[selected_features.var()!=0]\n",
    "selected_columns"
   ]
  },
  {
   "cell_type": "markdown",
   "id": "bbbbc7ba",
   "metadata": {},
   "source": [
    "Random Forest Importance"
   ]
  },
  {
   "cell_type": "code",
   "execution_count": 91,
   "id": "e3ed52f8",
   "metadata": {},
   "outputs": [
    {
     "ename": "ImportError",
     "evalue": "cannot import name '_check_feature_names_in' from 'sklearn.utils.validation' (C:\\Users\\Hi\\anaconda3\\lib\\site-packages\\sklearn\\utils\\validation.py)",
     "output_type": "error",
     "traceback": [
      "\u001b[1;31m---------------------------------------------------------------------------\u001b[0m",
      "\u001b[1;31mImportError\u001b[0m                               Traceback (most recent call last)",
      "\u001b[1;32m~\\AppData\\Local\\Temp/ipykernel_11908/2667102167.py\u001b[0m in \u001b[0;36m<module>\u001b[1;34m\u001b[0m\n\u001b[1;32m----> 1\u001b[1;33m \u001b[1;32mfrom\u001b[0m \u001b[0msklearn\u001b[0m\u001b[1;33m.\u001b[0m\u001b[0mensemble\u001b[0m \u001b[1;32mimport\u001b[0m \u001b[0mRandomForestClassifier\u001b[0m\u001b[1;33m\u001b[0m\u001b[1;33m\u001b[0m\u001b[0m\n\u001b[0m\u001b[0;32m      2\u001b[0m \u001b[0mmodel\u001b[0m\u001b[1;33m=\u001b[0m\u001b[0mRandomForestClassifier\u001b[0m\u001b[1;33m(\u001b[0m\u001b[0mn_estimators\u001b[0m\u001b[1;33m=\u001b[0m\u001b[1;36m340\u001b[0m\u001b[1;33m)\u001b[0m\u001b[1;33m\u001b[0m\u001b[1;33m\u001b[0m\u001b[0m\n\u001b[0;32m      3\u001b[0m \u001b[0mmodel\u001b[0m\u001b[1;33m.\u001b[0m\u001b[0mfit\u001b[0m\u001b[1;33m(\u001b[0m\u001b[0mX\u001b[0m\u001b[1;33m,\u001b[0m\u001b[0mY\u001b[0m\u001b[1;33m)\u001b[0m\u001b[1;33m\u001b[0m\u001b[1;33m\u001b[0m\u001b[0m\n\u001b[0;32m      4\u001b[0m \u001b[0mimportances\u001b[0m\u001b[1;33m=\u001b[0m\u001b[0mmodel\u001b[0m\u001b[1;33m.\u001b[0m\u001b[0mfeature_importances_\u001b[0m\u001b[1;33m\u001b[0m\u001b[1;33m\u001b[0m\u001b[0m\n\u001b[0;32m      5\u001b[0m \u001b[0mfinal_df\u001b[0m\u001b[1;33m=\u001b[0m\u001b[0mpd\u001b[0m\u001b[1;33m.\u001b[0m\u001b[0mDataFrame\u001b[0m\u001b[1;33m(\u001b[0m\u001b[1;33m{\u001b[0m\u001b[1;34m\"Features\"\u001b[0m\u001b[1;33m:\u001b[0m\u001b[0mpd\u001b[0m\u001b[1;33m.\u001b[0m\u001b[0mDataFrame\u001b[0m\u001b[1;33m(\u001b[0m\u001b[0mX\u001b[0m\u001b[1;33m)\u001b[0m\u001b[1;33m.\u001b[0m\u001b[0mcolumns\u001b[0m\u001b[1;33m,\u001b[0m\u001b[1;34m\"Importances\"\u001b[0m\u001b[1;33m:\u001b[0m\u001b[0mimportances\u001b[0m\u001b[1;33m}\u001b[0m\u001b[1;33m)\u001b[0m\u001b[1;33m\u001b[0m\u001b[1;33m\u001b[0m\u001b[0m\n",
      "\u001b[1;32m~\\anaconda3\\lib\\site-packages\\sklearn\\ensemble\\__init__.py\u001b[0m in \u001b[0;36m<module>\u001b[1;34m\u001b[0m\n\u001b[0;32m      4\u001b[0m \"\"\"\n\u001b[0;32m      5\u001b[0m \u001b[1;32mfrom\u001b[0m \u001b[1;33m.\u001b[0m\u001b[0m_base\u001b[0m \u001b[1;32mimport\u001b[0m \u001b[0mBaseEnsemble\u001b[0m\u001b[1;33m\u001b[0m\u001b[1;33m\u001b[0m\u001b[0m\n\u001b[1;32m----> 6\u001b[1;33m \u001b[1;32mfrom\u001b[0m \u001b[1;33m.\u001b[0m\u001b[0m_forest\u001b[0m \u001b[1;32mimport\u001b[0m \u001b[0mRandomForestClassifier\u001b[0m\u001b[1;33m\u001b[0m\u001b[1;33m\u001b[0m\u001b[0m\n\u001b[0m\u001b[0;32m      7\u001b[0m \u001b[1;32mfrom\u001b[0m \u001b[1;33m.\u001b[0m\u001b[0m_forest\u001b[0m \u001b[1;32mimport\u001b[0m \u001b[0mRandomForestRegressor\u001b[0m\u001b[1;33m\u001b[0m\u001b[1;33m\u001b[0m\u001b[0m\n\u001b[0;32m      8\u001b[0m \u001b[1;32mfrom\u001b[0m \u001b[1;33m.\u001b[0m\u001b[0m_forest\u001b[0m \u001b[1;32mimport\u001b[0m \u001b[0mRandomTreesEmbedding\u001b[0m\u001b[1;33m\u001b[0m\u001b[1;33m\u001b[0m\u001b[0m\n",
      "\u001b[1;32m~\\anaconda3\\lib\\site-packages\\sklearn\\ensemble\\_forest.py\u001b[0m in \u001b[0;36m<module>\u001b[1;34m\u001b[0m\n\u001b[0;32m     68\u001b[0m \u001b[1;32mfrom\u001b[0m \u001b[1;33m.\u001b[0m\u001b[1;33m.\u001b[0m\u001b[0mutils\u001b[0m\u001b[1;33m.\u001b[0m\u001b[0mfixes\u001b[0m \u001b[1;32mimport\u001b[0m \u001b[0mdelayed\u001b[0m\u001b[1;33m\u001b[0m\u001b[1;33m\u001b[0m\u001b[0m\n\u001b[0;32m     69\u001b[0m \u001b[1;32mfrom\u001b[0m \u001b[1;33m.\u001b[0m\u001b[1;33m.\u001b[0m\u001b[0mutils\u001b[0m\u001b[1;33m.\u001b[0m\u001b[0mmulticlass\u001b[0m \u001b[1;32mimport\u001b[0m \u001b[0mcheck_classification_targets\u001b[0m\u001b[1;33m,\u001b[0m \u001b[0mtype_of_target\u001b[0m\u001b[1;33m\u001b[0m\u001b[1;33m\u001b[0m\u001b[0m\n\u001b[1;32m---> 70\u001b[1;33m from ..utils.validation import (\n\u001b[0m\u001b[0;32m     71\u001b[0m     \u001b[0mcheck_is_fitted\u001b[0m\u001b[1;33m,\u001b[0m\u001b[1;33m\u001b[0m\u001b[1;33m\u001b[0m\u001b[0m\n\u001b[0;32m     72\u001b[0m     \u001b[0m_check_sample_weight\u001b[0m\u001b[1;33m,\u001b[0m\u001b[1;33m\u001b[0m\u001b[1;33m\u001b[0m\u001b[0m\n",
      "\u001b[1;31mImportError\u001b[0m: cannot import name '_check_feature_names_in' from 'sklearn.utils.validation' (C:\\Users\\Hi\\anaconda3\\lib\\site-packages\\sklearn\\utils\\validation.py)"
     ]
    }
   ],
   "source": [
    "from sklearn.ensemble import RandomForestClassifier\n",
    "model=RandomForestClassifier(n_estimators=340)\n",
    "model.fit(X,Y)\n",
    "importances=model.feature_importances_\n",
    "final_df=pd.DataFrame({\"Features\":pd.DataFrame(X).columns,\"Importances\":importances})\n",
    "final_df.set_index('Importances')\n",
    "final_df.sort_values('Importances')\n",
    "final_df.plot.bar(color='teal')"
   ]
  },
  {
   "cell_type": "code",
   "execution_count": null,
   "id": "2440ad5e",
   "metadata": {},
   "outputs": [],
   "source": []
  }
 ],
 "metadata": {
  "kernelspec": {
   "display_name": "Python 3 (ipykernel)",
   "language": "python",
   "name": "python3"
  },
  "language_info": {
   "codemirror_mode": {
    "name": "ipython",
    "version": 3
   },
   "file_extension": ".py",
   "mimetype": "text/x-python",
   "name": "python",
   "nbconvert_exporter": "python",
   "pygments_lexer": "ipython3",
   "version": "3.9.7"
  }
 },
 "nbformat": 4,
 "nbformat_minor": 5
}
